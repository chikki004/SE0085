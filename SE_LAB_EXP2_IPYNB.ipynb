{
  "nbformat": 4,
  "nbformat_minor": 0,
  "metadata": {
    "colab": {
      "provenance": [],
      "authorship_tag": "ABX9TyMf0zYSrKj7N/3gJt7tapeq",
      "include_colab_link": true
    },
    "kernelspec": {
      "name": "python3",
      "display_name": "Python 3"
    },
    "language_info": {
      "name": "python"
    }
  },
  "cells": [
    {
      "cell_type": "markdown",
      "metadata": {
        "id": "view-in-github",
        "colab_type": "text"
      },
      "source": [
        "<a href=\"https://colab.research.google.com/github/chikki004/SE0085/blob/main/SE_LAB_EXP2_IPYNB.ipynb\" target=\"_parent\"><img src=\"https://colab.research.google.com/assets/colab-badge.svg\" alt=\"Open In Colab\"/></a>"
      ]
    },
    {
      "cell_type": "code",
      "execution_count": 6,
      "metadata": {
        "colab": {
          "base_uri": "https://localhost:8080/"
        },
        "id": "i3qSA8dKm7dO",
        "outputId": "6630871f-9bb3-49de-aa37-8c4bc5087947"
      },
      "outputs": [
        {
          "output_type": "stream",
          "name": "stdout",
          "text": [
            "Mounted at /content/drive\n"
          ]
        }
      ],
      "source": [
        "from google.colab import drive\n",
        "drive.mount('/content/drive')"
      ]
    },
    {
      "cell_type": "code",
      "source": [
        "#Hardcodeing variables\n",
        "a = 1\n",
        "b = 2\n",
        "print(f\"Hardcode values:a = {a}, b = {b}\")"
      ],
      "metadata": {
        "colab": {
          "base_uri": "https://localhost:8080/"
        },
        "id": "jGwVJvYPpsU3",
        "outputId": "824b9a95-8bdc-4489-94d0-5def885a5a87"
      },
      "execution_count": 8,
      "outputs": [
        {
          "output_type": "stream",
          "name": "stdout",
          "text": [
            "Hardcode values:a = 1, b = 2\n"
          ]
        }
      ]
    },
    {
      "cell_type": "code",
      "source": [
        "#keyboard Input\n",
        "name = input(\"Enter your name: \")\n",
        "age = int(input(\"Enter your age: \"))\n",
        "print(f\"Name: {name}, Age: {age}\")"
      ],
      "metadata": {
        "colab": {
          "base_uri": "https://localhost:8080/"
        },
        "id": "yivHImsQrypu",
        "outputId": "b35180d7-21e3-4849-c9f8-4963f6fb8278"
      },
      "execution_count": 9,
      "outputs": [
        {
          "output_type": "stream",
          "name": "stdout",
          "text": [
            "Enter your name: Chakradhar Dammala\n",
            "Enter your age: 19\n",
            "Name: Chakradhar Dammala, Age: 19\n"
          ]
        }
      ]
    },
    {
      "cell_type": "code",
      "source": [
        "with open(\"single_input.txt\",\"w\") as f:\n",
        "  f.write(\"48\")\n",
        "try:\n",
        "  with open(\"single_input.txt\",\"r\") as f:\n",
        "    num=int(f.read().strip())\n",
        "    result=num*4\n",
        "    print(f\"Single Input Read from File : {num} * 4 = {result}\")\n",
        "except FileNotFoundError:\n",
        "  print(\"File Not Found!\")\n",
        "except ValueError:\n",
        "  print(\"Error in reading or converting the input!\")"
      ],
      "metadata": {
        "colab": {
          "base_uri": "https://localhost:8080/"
        },
        "id": "YHpfpdeBtzBy",
        "outputId": "40787e01-531e-4fbc-d470-82eeae07d3dd"
      },
      "execution_count": 15,
      "outputs": [
        {
          "output_type": "stream",
          "name": "stdout",
          "text": [
            "Single Input Read from File : 48 * 4 = 192\n"
          ]
        }
      ]
    },
    {
      "cell_type": "code",
      "source": [
        "user_input = input(\"Please enter multiple numbers, separated by spaces: \")\n",
        "numbers_list = user_input.split()\n",
        "with open(\"multiple_inputs.txt\", \"w\") as f:\n",
        "    for num in numbers_list:\n",
        "        f.write(num + \"\\n\")\n",
        "\n",
        "try:\n",
        "    with open(\"multiple_inputs.txt\", \"r\") as f:\n",
        "        numbers = [int(line.strip()) for line in f.readlines()]\n",
        "        result = sum(numbers)\n",
        "        print(f\"Multiple Inputs Read from File: {numbers}, Sum = {result}\")\n",
        "except FileNotFoundError:\n",
        "    print(\"File not found!\")\n",
        "except ValueError:\n",
        "    print(\"Error in reading or converting the inputs!\")"
      ],
      "metadata": {
        "colab": {
          "base_uri": "https://localhost:8080/"
        },
        "id": "I6HXqPaiuDgJ",
        "outputId": "21a2a754-af87-4249-b5aa-b4be3cec5cd2"
      },
      "execution_count": 16,
      "outputs": [
        {
          "output_type": "stream",
          "name": "stdout",
          "text": [
            "Please enter multiple numbers, separated by spaces: 90 20\n",
            "Multiple Inputs Read from File: [90, 20], Sum = 110\n"
          ]
        }
      ]
    },
    {
      "cell_type": "code",
      "source": [
        ""
      ],
      "metadata": {
        "id": "7g2Ke_2FwNFP"
      },
      "execution_count": null,
      "outputs": []
    }
  ]
}